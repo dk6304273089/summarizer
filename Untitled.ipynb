{
 "cells": [
  {
   "cell_type": "code",
   "execution_count": 1,
   "id": "eb583f10",
   "metadata": {},
   "outputs": [],
   "source": [
    "from deep_translator import GoogleTranslator\n",
    "translated=GoogleTranslator(source=\"auto\",target=\"en\")"
   ]
  },
  {
   "cell_type": "code",
   "execution_count": 2,
   "id": "6d844630",
   "metadata": {},
   "outputs": [],
   "source": [
    "c=\"\"\" नगालैंड में आर्म्ड फोर्स स्पेशल पावर एक्ट 1958 यानी AFSPA अभी लागू रहेगा। गृह मंत्रालय की तरफ से जारी एक आदेश में कहा गया है कि नगालैंड में यह कानून अभी अगले 6 महीनों तक के लिए आगे भी लागू रहेगा। इस कानून में सुरक्षा बलों को विशेष शक्तियां हासिल हैं। अभी कुछ समय पहले इस कानून का नगालैंड में विरोध हो रहा था और इसे हटाने की मांग उठ रही थी। इस बीच इस कानून को 6 महीने का विस्तार दिये जाने की वजह से राज्य में एक बार इसका विरोध शुरू हो सकता है। केंद्र सरकार ने पूरे नगालैंड को 'डिस्टर्ब एरिया' घोषित किया है। सरकार की तरफ से कहा गया है कि नगालैंड इतनी अशांत, खतरनाक स्थिति में है कि नागरिक प्रशासन की मदद के लिए सशस्त्र बलों का इस्तेमाल आवश्यक है। इस कानून के तहत सेना पांच या इससे ज़्यादा लोगों को एक जगह इक्ट्ठा होने से रोक सकती है। इसके तहत सेना को चेतावनी देकर गोली मारने का भी अधिकार है। ये कानून सेना को बिना वारंट के किसी को भी गिरफ्तार करने की ताकत देता है। इसके तहत सेना किसी के घर में बिना वारंट के घुसकर तलाशी ले सकती है। गोली चलाने के लिए किसी के भी आदेश का इंतजार नहीं करना और अगर उस गोली से किसी की मौत होती है तो सैनिक पर हत्या का मुकदमा भी नहीं चलाया जा सकता है। अगर राज्य सरकार या पुलिस प्रशासन, किसी सैनिक या सेना की टुकड़ी के खिलाफ एफआईआर दर्ज करती है तो कोर्ट में उसके अभियोग के लिए केंद्र सरकार की इजाजत जरूरी होती है।\"\"\""
   ]
  },
  {
   "cell_type": "code",
   "execution_count": 4,
   "id": "23fa09fd",
   "metadata": {},
   "outputs": [],
   "source": [
    "f=translated.translate(c)"
   ]
  },
  {
   "cell_type": "code",
   "execution_count": 5,
   "id": "636d3c21",
   "metadata": {},
   "outputs": [
    {
     "name": "stdout",
     "output_type": "stream",
     "text": [
      "The Armed Forces Special Powers Act 1958 ie AFSPA will remain in force in Nagaland. In an order issued by the Ministry of Home Affairs, it has been said that in Nagaland this law will continue to be applicable for the next 6 months. Security forces have special powers in this law. Not long ago this law was being opposed in Nagaland and there was a demand for its removal. Meanwhile, due to the extension of 6 months to this law, the opposition may start once in the state. The central government has declared the entire Nagaland as a 'disturbed area'. On behalf of the government, it has been said that Nagaland is in such a disturbed, dangerous situation that the use of armed forces is necessary to help the civil administration. Under this law, the army can prevent the gathering of five or more people in one place. Under this, the army also has the right to shoot with a warning. This law gives the army the power to arrest anyone without a warrant. Under this, the army can enter and search someone's house without a warrant. Do not wait for orders from anyone to fire and if that bullet kills someone, then the soldier cannot be tried for murder. If the state government or the police administration registers an FIR against a soldier or an army unit, then the permission of the central government is necessary for its prosecution in the court.\n"
     ]
    }
   ],
   "source": [
    "print(f)"
   ]
  },
  {
   "cell_type": "code",
   "execution_count": null,
   "id": "d96f0b6f",
   "metadata": {},
   "outputs": [],
   "source": []
  }
 ],
 "metadata": {
  "kernelspec": {
   "display_name": "Python 3 (ipykernel)",
   "language": "python",
   "name": "python3"
  },
  "language_info": {
   "codemirror_mode": {
    "name": "ipython",
    "version": 3
   },
   "file_extension": ".py",
   "mimetype": "text/x-python",
   "name": "python",
   "nbconvert_exporter": "python",
   "pygments_lexer": "ipython3",
   "version": "3.7.11"
  }
 },
 "nbformat": 4,
 "nbformat_minor": 5
}
